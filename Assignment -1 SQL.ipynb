{
 "cells": [
  {
   "cell_type": "code",
   "execution_count": null,
   "metadata": {},
   "outputs": [],
   "source": [
    "Q-1.Write an SQL query to fetch “FIRST_NAME” from Worker table using the alias name as <WORKER_NAME>.\n",
    "Ans -1. SELECT FIRST_NAME as WORK_NAME FROM worker;\n",
    "\n",
    "Q-2.Write an SQL query to fetch unique values of DEPARTMENT from Worker table.\n",
    "Ans-2. SELECT DISTINCT DEPARTMENT FROM worker;\n",
    "\n",
    "Q-3.Write an SQL query to show the last 5 record from a table.\n",
    "SELECT * FROM worker ORDER by id DESC LIMIT 5;"
   ]
  }
 ],
 "metadata": {
  "kernelspec": {
   "display_name": "Python 3",
   "language": "python",
   "name": "python3"
  },
  "language_info": {
   "codemirror_mode": {
    "name": "ipython",
    "version": 3
   },
   "file_extension": ".py",
   "mimetype": "text/x-python",
   "name": "python",
   "nbconvert_exporter": "python",
   "pygments_lexer": "ipython3",
   "version": "3.6.5"
  }
 },
 "nbformat": 4,
 "nbformat_minor": 2
}
