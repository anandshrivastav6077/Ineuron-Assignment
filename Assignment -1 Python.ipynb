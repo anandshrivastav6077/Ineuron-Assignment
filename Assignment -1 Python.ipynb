{
 "cells": [
  {
   "cell_type": "code",
   "execution_count": null,
   "metadata": {},
   "outputs": [],
   "source": [
    "Q = 1  In the below elements which of them are values or an expression? eg:- values can be\n",
    "integer or string and expressions will be mathematical operators.\n",
    "\n",
    "ANS\n",
    "*        =expression (Mathematical operator)\n",
    "'hello'  =value(string)\n",
    "-87.8    =value(float)\n",
    "-        =expression (Mathematical operator)\n",
    "/        =expression (Mathematical operator)\n",
    "+        =expression (Mathematical operator)\n",
    "6        =value(integer)"
   ]
  },
  {
   "cell_type": "code",
   "execution_count": null,
   "metadata": {},
   "outputs": [],
   "source": [
    "Q =2 What is the difference between string and variable?\n",
    "string = It is collection of character.@ in programming we Can write in quote like this \"ANAND\"\n",
    "variable = kind of eninty it help to you out to hold your data inside your main memory or ram..  just like container "
   ]
  },
  {
   "cell_type": "code",
   "execution_count": null,
   "metadata": {},
   "outputs": [],
   "source": [
    "Q =3  Describe three different data types.\n",
    "Integer : It can store only numeric value eg.58,15,9\n",
    "float: It can store only floating value eg. -5.2,526.4\n",
    "List : It can store multiple data in single variable"
   ]
  },
  {
   "cell_type": "code",
   "execution_count": null,
   "metadata": {},
   "outputs": [],
   "source": [
    "Q =4 What is an expression made up of? What do all expressions do?\n",
    "ANS = It is made up of values, mathematic operator, container, etc. it represent the result one the screen"
   ]
  },
  {
   "cell_type": "code",
   "execution_count": null,
   "metadata": {},
   "outputs": [],
   "source": [
    " Q 5 This assignment statements, like spam = 10. What is the difference between an\n",
    "expression and a statement?\n",
    "Ans : \n",
    "Satement = Instructions that a Python interpreter can execute\n",
    "Expression= It is made up of values, mathematic operator, container, etc. it represent the result one the screen"
   ]
  },
  {
   "cell_type": "code",
   "execution_count": null,
   "metadata": {},
   "outputs": [],
   "source": [
    "Q 6 After running the following code, what does the variable bacon contain?\n",
    "bacon = 22\n",
    "bacon + 1\n",
    "Ans:\n",
    "it add one value n bacon .ans = 23"
   ]
  },
  {
   "cell_type": "code",
   "execution_count": null,
   "metadata": {},
   "outputs": [],
   "source": [
    "Q =7 What should the values of the following two terms be?\n",
    "'spam'+'spamspam'\n",
    "\"spam\"*3"
   ]
  },
  {
   "cell_type": "code",
   "execution_count": 84,
   "metadata": {},
   "outputs": [
    {
     "data": {
      "text/plain": [
       "'spamspamspam'"
      ]
     },
     "execution_count": 84,
     "metadata": {},
     "output_type": "execute_result"
    }
   ],
   "source": [
    "##Ans =7\n",
    "\"spam\"+\"spamspam\""
   ]
  },
  {
   "cell_type": "code",
   "execution_count": 85,
   "metadata": {},
   "outputs": [
    {
     "data": {
      "text/plain": [
       "'spamspamspam'"
      ]
     },
     "execution_count": 85,
     "metadata": {},
     "output_type": "execute_result"
    }
   ],
   "source": [
    "# ANS=7\n",
    "\"spam\"*3"
   ]
  },
  {
   "cell_type": "code",
   "execution_count": null,
   "metadata": {},
   "outputs": [],
   "source": [
    "Q = 8 Why is eggs a valid variable name while 100 is invalid?\n",
    "ANS: Variable name never start with integer .. "
   ]
  },
  {
   "cell_type": "code",
   "execution_count": null,
   "metadata": {},
   "outputs": [],
   "source": [
    " Q = 9 What three functions can be used to get the integer, floating-point number, or string\n",
    "version of a value?\n",
    "Ans: str()\n",
    "     int()\n",
    "    float()"
   ]
  },
  {
   "cell_type": "code",
   "execution_count": null,
   "metadata": {},
   "outputs": [],
   "source": [
    "Q = 10 Why does this expression cause an error? How can you fix it?\n",
    "'I have eaten' + 99 +  'burritos'\n",
    "Ans:\n",
    "    Error cause  = In python language we can't add string and integer together\n",
    "    fix --  'I have eaten' + '99' +  'burritos'\n",
    "    we make integer in string by quoting ''"
   ]
  }
 ],
 "metadata": {
  "kernelspec": {
   "display_name": "Python 3",
   "language": "python",
   "name": "python3"
  },
  "language_info": {
   "codemirror_mode": {
    "name": "ipython",
    "version": 3
   },
   "file_extension": ".py",
   "mimetype": "text/x-python",
   "name": "python",
   "nbconvert_exporter": "python",
   "pygments_lexer": "ipython3",
   "version": "3.6.5"
  }
 },
 "nbformat": 4,
 "nbformat_minor": 2
}
